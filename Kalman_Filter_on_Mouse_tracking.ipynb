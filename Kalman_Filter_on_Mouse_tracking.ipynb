{
  "nbformat": 4,
  "nbformat_minor": 0,
  "metadata": {
    "colab": {
      "name": "Kalman Filter on Mouse tracking.ipynb",
      "version": "0.3.2",
      "provenance": [],
      "include_colab_link": true
    },
    "kernelspec": {
      "name": "python3",
      "display_name": "Python 3"
    }
  },
  "cells": [
    {
      "cell_type": "markdown",
      "metadata": {
        "id": "view-in-github",
        "colab_type": "text"
      },
      "source": [
        "<a href=\"https://colab.research.google.com/github/dipayandas97/Blob-detection-/blob/master/Kalman_Filter_on_Mouse_tracking.ipynb\" target=\"_parent\"><img src=\"https://colab.research.google.com/assets/colab-badge.svg\" alt=\"Open In Colab\"/></a>"
      ]
    },
    {
      "cell_type": "code",
      "metadata": {
        "id": "hblJuQ0w3jY_",
        "colab_type": "code",
        "colab": {}
      },
      "source": [
        "import numpy as np\n",
        "np.set_printoptions(threshold=3)\n",
        "np.set_printoptions(suppress=True)\n",
        "from numpy import genfromtxt\n",
        "import matplotlib.pyplot as plt"
      ],
      "execution_count": 0,
      "outputs": []
    },
    {
      "cell_type": "code",
      "metadata": {
        "id": "WN36hahd3yk8",
        "colab_type": "code",
        "colab": {}
      },
      "source": [
        "def prediction(X_hat_t_1,P_t_1,F_t,B_t,U_t,Q_t):\n",
        "    X_hat_t=F_t.dot(X_hat_t_1)+(B_t.dot(U_t).reshape(B_t.shape[0],-1) )\n",
        "    P_t=np.diag(np.diag(F_t.dot(P_t_1).dot(F_t.transpose())))+Q_t\n",
        "    return X_hat_t,P_t\n",
        "    "
      ],
      "execution_count": 0,
      "outputs": []
    },
    {
      "cell_type": "code",
      "metadata": {
        "id": "pfcLsfZP3r1W",
        "colab_type": "code",
        "colab": {}
      },
      "source": [
        "def update(X_hat_t,P_t,Z_t,R_t,H_t):\n",
        "    \n",
        "    K_prime=P_t.dot(H_t.transpose()).dot( np.linalg.inv ( H_t.dot(P_t).dot(H_t.transpose()) +R_t ) )  \n",
        "    #print(\"K:\\n\",K_prime)\n",
        "    \n",
        "    X_t=X_hat_t+K_prime.dot(Z_t-H_t.dot(X_hat_t))\n",
        "    P_t=P_t-K_prime.dot(H_t).dot(P_t)\n",
        "    \n",
        "    return X_t,P_t"
      ],
      "execution_count": 0,
      "outputs": []
    },
    {
      "cell_type": "code",
      "metadata": {
        "id": "OMDNIUWR31dW",
        "colab_type": "code",
        "colab": {
          "base_uri": "https://localhost:8080/",
          "height": 136
        },
        "outputId": "bde187a0-fa68-4361-ccde-fccce8030db2"
      },
      "source": [
        "acceleration=0\n",
        "delta_t=1/20#milisecond\n",
        "\n",
        "F_t=np.array([ [1 ,0,delta_t,0] , [0,1,0,delta_t] , [0,0,1,0] , [0,0,0,1] ])\n",
        " \n",
        "#Initial State cov\n",
        "P_t= np.identity(4)*0.2\n",
        " \n",
        "#Process cov\n",
        "Q_t= np.identity(4)\n",
        " \n",
        "#Control matrix\n",
        "B_t=np.array( [ [0] , [0], [0] , [0] ])\n",
        " \n",
        "#Control vector\n",
        "U_t=acceleration\n",
        " \n",
        "#Measurment Matrix\n",
        "H_t = np.array([ [1, 0, 0, 0], [ 0, 1, 0, 0]])\n",
        " \n",
        "#Measurment cov\n",
        "R_t= np.identity(2)*5\n",
        " \n",
        "# Initial State\n",
        "X_hat_t = np.array( [[0],[0],[0],[0]] )\n",
        "\n",
        "\n",
        "print(\"X_hat_t\",X_hat_t.shape)\n",
        "print(\"P_t\",P_t.shape)\n",
        "print(\"F_t\",F_t.shape)\n",
        "print(\"B_t\",B_t.shape)\n",
        "print(\"Q_t\",Q_t.shape)\n",
        "print(\"R_t\",R_t.shape)\n",
        "print(\"H_t\",H_t.shape)"
      ],
      "execution_count": 51,
      "outputs": [
        {
          "output_type": "stream",
          "text": [
            "X_hat_t (4, 1)\n",
            "P_t (4, 4)\n",
            "F_t (4, 4)\n",
            "B_t (4, 1)\n",
            "Q_t (4, 4)\n",
            "R_t (2, 2)\n",
            "H_t (2, 4)\n"
          ],
          "name": "stdout"
        }
      ]
    },
    {
      "cell_type": "code",
      "metadata": {
        "id": "YfbUQtK64IBm",
        "colab_type": "code",
        "colab": {
          "base_uri": "https://localhost:8080/",
          "height": 269
        },
        "outputId": "41da0102-4fa5-4533-d448-7d1166d635be"
      },
      "source": [
        "pred = []\n",
        "measurements = np.array([[47, 586], [47, 586], [47, 586], [47, 586], [47, 586], [47, 586], [45, 564], [45, 554], [46, 537], [59, 494], [73, 463], [103, 413], [132, 368], [162, 332], [173, 315], [185, 299], [194, 287], [204, 277], [219, 265], [238, 253], [265, 236], [289, 224], [331, 207], [380, 192], [465, 179], [543, 169], [570, 169], [601, 169], [636, 171], [669, 182], [700, 194], [725, 213], [746, 242], [769, 273], [781, 291], [789, 310], [795, 332], [795, 356], [796, 409], [796, 443], [796, 463], [791, 475], [780, 491], [761, 528], [731, 565], [699, 601], [671, 621], [637, 636], [599, 643], [566, 648], [509, 647], [471, 644], [449, 637], [432, 618], [424, 581], [419, 551], [417, 520], [417, 485], [422, 463], [435, 439], [449, 414], [464, 396], [480, 380], [508, 359], [525, 350], [537, 346], [554, 345], [568, 345], [590, 350], [609, 365], [620, 382], [625, 397], [629, 411], [629, 428], [628, 443], [615, 458], [605, 469], [596, 478], [584, 486], [572, 488], [565, 488], [559, 488], [552, 481], [549, 472], [549, 460], [549, 450], [553, 437], [556, 430], [566, 423], [573, 420], [576, 418], [578, 418], [581, 418], [586, 421], [588, 430], [590, 434], [591, 440], [591, 445], [591, 447], [590, 449]],dtype='float64').reshape(-1,2)\n",
        "measurements += 100*np.random.randn()\n",
        "\n",
        "for i in range(measurements.shape[0]):\n",
        "    X_hat_t,P_hat_t = prediction(X_hat_t,P_t,F_t,B_t,U_t,Q_t)\n",
        "    #print(\"Prediction:\")\n",
        "    #print(\"X_hat_t:\\n\",X_hat_t,\"\\nP_t:\\n\",P_t)\n",
        "    \n",
        "    pred.append(X_hat_t)\n",
        "\n",
        "    Z_t=measurements[i].transpose()\n",
        "    Z_t=Z_t.reshape(Z_t.shape[0],-1)\n",
        "    \n",
        "    #print(Z_t.shape)\n",
        "    \n",
        "    X_t,P_t=update(X_hat_t,P_hat_t,Z_t,R_t,H_t)\n",
        "    #print(\"Update:\")\n",
        "    #print(\"X_t:\\n\",X_t,\"\\nP_t:\\n\",P_t)\n",
        "    X_hat_t=X_t\n",
        "    P_hat_t=P_t\n",
        "\n",
        "pred = np.array(pred)\n",
        "\n",
        "plt.scatter(measurements[:,0],measurements[:,1])\n",
        "plt.scatter(pred[:,0],pred[:,1])\n",
        "plt.show()\n",
        "\n"
      ],
      "execution_count": 52,
      "outputs": [
        {
          "output_type": "display_data",
          "data": {
            "image/png": "[encoded data removed]",
            "text/plain": [
              "<Figure size 432x288 with 1 Axes>"
            ]
          },
          "metadata": {
            "tags": []
          }
        }
      ]
    },
    {
      "cell_type": "code",
      "metadata": {
        "id": "0GEq_saCA18N",
        "colab_type": "code",
        "colab": {}
      },
      "source": [
        "|"
      ],
      "execution_count": 0,
      "outputs": []
    }
  ]
}