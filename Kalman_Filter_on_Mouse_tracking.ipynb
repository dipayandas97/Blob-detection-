{
  "nbformat": 4,
  "nbformat_minor": 0,
  "metadata": {
    "colab": {
      "name": "Kalman Filter on Mouse tracking.ipynb",
      "version": "0.3.2",
      "provenance": [],
      "include_colab_link": true
    },
    "kernelspec": {
      "name": "python3",
      "display_name": "Python 3"
    }
  },
  "cells": [
    {
      "cell_type": "markdown",
      "metadata": {
        "id": "view-in-github",
        "colab_type": "text"
      },
      "source": [
        "<a href=\"https://colab.research.google.com/github/dipayandas97/Blob-detection-/blob/master/Kalman_Filter_on_Mouse_tracking.ipynb\" target=\"_parent\"><img src=\"https://colab.research.google.com/assets/colab-badge.svg\" alt=\"Open In Colab\"/></a>"
      ]
    },
    {
      "cell_type": "code",
      "metadata": {
        "id": "hblJuQ0w3jY_",
        "colab_type": "code",
        "colab": {}
      },
      "source": [
        "import numpy as np\n",
        "np.set_printoptions(threshold=3)\n",
        "np.set_printoptions(suppress=True)\n",
        "from numpy import genfromtxt\n",
        "import matplotlib.pyplot as plt"
      ],
      "execution_count": 0,
      "outputs": []
    },
    {
      "cell_type": "code",
      "metadata": {
        "id": "WN36hahd3yk8",
        "colab_type": "code",
        "colab": {}
      },
      "source": [
        "def prediction(X_hat_t_1,P_t_1,F_t,B_t,U_t,Q_t):\n",
        "    X_hat_t=F_t.dot(X_hat_t_1)+(B_t.dot(U_t).reshape(B_t.shape[0],-1) )\n",
        "    P_t=np.diag(np.diag(F_t.dot(P_t_1).dot(F_t.transpose())))+Q_t\n",
        "    return X_hat_t,P_t\n",
        "    "
      ],
      "execution_count": 0,
      "outputs": []
    },
    {
      "cell_type": "code",
      "metadata": {
        "id": "pfcLsfZP3r1W",
        "colab_type": "code",
        "colab": {}
      },
      "source": [
        "def update(X_hat_t,P_t,Z_t,R_t,H_t):\n",
        "    \n",
        "    K_prime=P_t.dot(H_t.transpose()).dot( np.linalg.inv ( H_t.dot(P_t).dot(H_t.transpose()) +R_t ) )  \n",
        "    #print(\"K:\\n\",K_prime)\n",
        "    \n",
        "    X_t=X_hat_t+K_prime.dot(Z_t-H_t.dot(X_hat_t))\n",
        "    P_t=P_t-K_prime.dot(H_t).dot(P_t)\n",
        "    \n",
        "    return X_t,P_t"
      ],
      "execution_count": 0,
      "outputs": []
    },
    {
      "cell_type": "code",
      "metadata": {
        "id": "OMDNIUWR31dW",
        "colab_type": "code",
        "colab": {
          "base_uri": "https://localhost:8080/",
          "height": 136
        },
        "outputId": "b9731376-5811-4ca9-bfc4-adfb1bb8d767"
      },
      "source": [
        "acceleration=0\n",
        "delta_t=0.05 #milisecond\n",
        "\n",
        "F_t=np.array([ [1 ,0,delta_t,0] , [0,1,0,delta_t] , [0,0,1,0] , [0,0,0,1] ])\n",
        " \n",
        "#Initial State cov\n",
        "P_t= np.identity(4)*0.2\n",
        " \n",
        "#Process cov\n",
        "Q_t= np.identity(4)\n",
        " \n",
        "#Control matrix\n",
        "B_t=np.array( [ [0] , [0], [0] , [0] ])\n",
        " \n",
        "#Control vector\n",
        "U_t=acceleration\n",
        " \n",
        "#Measurment Matrix\n",
        "H_t = np.array([ [1, 0, 0, 0], [ 0, 1, 0, 0]])\n",
        " \n",
        "#Measurment cov\n",
        "R_t= np.identity(2)*5\n",
        " \n",
        "# Initial State\n",
        "X_hat_t = np.array( [[0],[0],[0],[0]] )\n",
        "\n",
        "\n",
        "print(\"X_hat_t\",X_hat_t.shape)\n",
        "print(\"P_t\",P_t.shape)\n",
        "print(\"F_t\",F_t.shape)\n",
        "print(\"B_t\",B_t.shape)\n",
        "print(\"Q_t\",Q_t.shape)\n",
        "print(\"R_t\",R_t.shape)\n",
        "print(\"H_t\",H_t.shape)"
      ],
      "execution_count": 69,
      "outputs": [
        {
          "output_type": "stream",
          "text": [
            "X_hat_t (4, 1)\n",
            "P_t (4, 4)\n",
            "F_t (4, 4)\n",
            "B_t (4, 1)\n",
            "Q_t (4, 4)\n",
            "R_t (2, 2)\n",
            "H_t (2, 4)\n"
          ],
          "name": "stdout"
        }
      ]
    },
    {
      "cell_type": "code",
      "metadata": {
        "id": "YfbUQtK64IBm",
        "colab_type": "code",
        "colab": {
          "base_uri": "https://localhost:8080/",
          "height": 269
        },
        "outputId": "6c149c61-da1b-4ed6-8c55-45ca9948a313"
      },
      "source": [
        "pred = []\n",
        "measurements = np.array([[0, 423], [0, 423], [0, 423], [0, 423], [0, 422], [5, 398], [12, 373], [15, 360], [19, 347], [25, 329], [34, 307], [37, 300], [43, 293], [61, 280], [80, 273], [98, 271], [127, 281], [145, 298], [162, 322], [166, 337], [171, 353], [178, 376], [187, 401], [200, 438], [210, 474], [223, 502], [231, 513], [242, 526], [251, 539], [265, 548], [278, 553], [290, 554], [303, 554], [325, 554], [347, 551], [353, 545], [365, 532], [388, 500], [410, 472], [418, 458], [426, 437], [437, 412], [447, 382], [463, 355], [477, 327], [496, 302], [505, 293], [515, 287], [531, 285], [547, 284], [570, 284], [591, 288], [621, 303], [641, 320], [656, 342], [673, 371], [688, 392], [695, 409], [708, 429], [722, 447], [744, 472], [765, 492], [780, 505], [787, 511], [804, 524], [824, 536], [837, 537], [853, 538], [869, 538], [880, 534], [897, 522], [911, 510], [923, 500], [936, 483], [950, 465], [961, 449], [967, 437], [973, 424], [978, 413], [984, 400], [989, 389], [997, 376], [1002, 366], [1010, 356], [1014, 347], [1018, 338], [1023, 332], [1023, 323], [1023, 312], [1023, 307], [1023, 304], [1023, 297], [1023, 289], [1023, 286], [1023, 283], [1023, 283], [1023, 283], [1023, 283], [1023, 283], [1023, 283]],dtype='float64').reshape(-1,2)\n",
        "measurements += 10*np.random.randn(measurements.shape[0],measurements.shape[1])\n",
        "\n",
        "for i in range(measurements.shape[0]):\n",
        "    X_hat_t,P_hat_t = prediction(X_hat_t,P_t,F_t,B_t,U_t,Q_t)\n",
        "    #print(\"Prediction:\")\n",
        "    #print(\"X_hat_t:\\n\",X_hat_t,\"\\nP_t:\\n\",P_t)\n",
        "    \n",
        "    pred.append(X_hat_t)\n",
        "\n",
        "    Z_t=measurements[i].transpose()\n",
        "    Z_t=Z_t.reshape(Z_t.shape[0],-1)\n",
        "    \n",
        "    #print(Z_t.shape)\n",
        "    \n",
        "    X_t,P_t=update(X_hat_t,P_hat_t,Z_t,R_t,H_t)\n",
        "    #print(\"Update:\")\n",
        "    #print(\"X_t:\\n\",X_t,\"\\nP_t:\\n\",P_t)\n",
        "    X_hat_t=X_t\n",
        "    P_hat_t=P_t\n",
        "\n",
        "pred = np.array(pred)\n",
        "\n",
        "plt.plot(measurements[:,0],measurements[:,1])\n",
        "plt.plot(pred[5:,0],pred[5:,1])\n",
        "plt.show()\n",
        "\n"
      ],
      "execution_count": 75,
      "outputs": [
        {
          "output_type": "display_data",
          "data": {
            "image/png": "[encoded data removed]",
            "text/plain": [
              "<Figure size 432x288 with 1 Axes>"
            ]
          },
          "metadata": {
            "tags": []
          }
        }
      ]
    },
    {
      "cell_type": "code",
      "metadata": {
        "id": "0GEq_saCA18N",
        "colab_type": "code",
        "colab": {
          "base_uri": "https://localhost:8080/",
          "height": 34
        },
        "outputId": "e6734f59-4099-4f3e-f754-87342fb07cc5"
      },
      "source": [
        "100*np.random.randn()\n"
      ],
      "execution_count": 53,
      "outputs": [
        {
          "output_type": "execute_result",
          "data": {
            "text/plain": [
              "27.97843809955997"
            ]
          },
          "metadata": {
            "tags": []
          },
          "execution_count": 53
        }
      ]
    },
    {
      "cell_type": "code",
      "metadata": {
        "id": "TXNMuxF5LWX9",
        "colab_type": "code",
        "colab": {}
      },
      "source": [
        ""
      ],
      "execution_count": 0,
      "outputs": []
    }
  ]
}